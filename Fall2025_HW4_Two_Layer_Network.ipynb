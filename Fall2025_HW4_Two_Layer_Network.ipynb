{
  "cells": [
    {
      "cell_type": "markdown",
      "metadata": {
        "id": "view-in-github",
        "colab_type": "text"
      },
      "source": [
        "<a href=\"https://colab.research.google.com/github/Arash444/Foundation-of-Machine-Learning/blob/main/Fall2025_HW4_Two_Layer_Network.ipynb\" target=\"_parent\"><img src=\"https://colab.research.google.com/assets/colab-badge.svg\" alt=\"Open In Colab\"/></a>"
      ]
    },
    {
      "cell_type": "markdown",
      "metadata": {
        "id": "UKc8K9_57UEz"
      },
      "source": [
        "# CS224-EE242a - Fall 2025 - Homework 4\n",
        "\n",
        "# Due: Friday, October 31, 2025 @ 11:59pm\n",
        "\n",
        "### Maximum points: 50 pts\n",
        "\n",
        "\n",
        "## Submit your solution to Gradescope:\n",
        "1. Submit a single PDF to **HW4**\n",
        "2. Submit your jupyter notebook to **HW4-code**\n",
        "\n",
        "**Notice:**\n",
        "In Markdown, when you write in LaTeX math mode, do not leave any leading and trailing whitespaces inside the dollar signs ($). For example, write `(dollarSign)\\mathbf(dollarSign)(dollarSign)` instead of `(dollarSign)(space)\\mathbf{w}(dollarSign)`. Otherwise, nbconvert will throw an error and the generated pdf will be incomplete. [This is a bug of nbconvert.](https://tex.stackexchange.com/questions/367176/jupyter-notebook-latex-conversion-fails-escaped-and-other-symbols)\n",
        "\n",
        "**See the additional submission instructions at the end of this notebook**"
      ]
    },
    {
      "cell_type": "markdown",
      "metadata": {
        "id": "JL5tIX4c9z6s"
      },
      "source": [
        "\n",
        "## <font color='green'> Enter your information below: </font>\n",
        "\n",
        "### <font color='green'> Your Name (submitter): </font> Arash Shahin\n",
        "\n",
        "### <font color='green'> Your student ID (submitter): </font> 862622048\n",
        "    \n",
        "    \n",
        "<b>By submitting this notebook, I assert that the work below is my own work, completed for this course.  Except where explicitly cited, none of the portions of this notebook are duplicated from anyone else's work or my own previous work.</b>\n",
        "\n",
        "\n",
        "## Academic Integrity\n",
        "Each assignment should be done  individually. You may discuss general approaches with other students in the class, and ask questions to the TAs, but  you must only submit work that is yours . If you receive help by any external sources (other than the TA and the instructor), you must properly credit those sources, and if the help is significant, the appropriate grade reduction will be applied. If you fail to do so, the instructor and the TAs are obligated to take the appropriate actions outlined at http://conduct.ucr.edu/policies/academicintegrity.html . Please read carefully the UCR academic integrity policies included in the link.\n"
      ]
    },
    {
      "cell_type": "markdown",
      "metadata": {
        "id": "hsywQWEI8pzj"
      },
      "source": [
        "# Overview\n",
        "In this assignment you will implement a two-layer neural network. You will implement the loss functions, gradients, optimizers to train the network and test its performance on MNIST dataset.\n",
        "\n",
        "For this assignment we will use the functionality of Pandas (https://pandas.pydata.org/), Matplotlib (https://matplotlib.org/), and Numpy (http://www.numpy.org/).\n",
        "\n",
        "If you are asked to **implement** a particular functionality, you should **not** use an existing implementation from the libraries above (or some other library that you may find). When in doubt, please ask.\n",
        "\n",
        "Before you start, make sure you have installed all those packages in your local Jupyter instance\n",
        "\n",
        "## Read *all* cells carefully and answer all parts (both text and missing code)\n",
        "\n",
        "You will complete all the code marked `TODO` and answer descriptive/derivation questions\n",
        "\n"
      ]
    },
    {
      "cell_type": "code",
      "execution_count": null,
      "metadata": {
        "id": "3d6urIY6Ci2D"
      },
      "outputs": [],
      "source": [
        "import numpy as np\n",
        "import matplotlib.pyplot as plt\n",
        "\n",
        "# make sure you import here everything else you may need"
      ]
    },
    {
      "cell_type": "markdown",
      "metadata": {
        "id": "9vBsJizSAN5C"
      },
      "source": [
        "## Load MNIST Dataset\n",
        "\n",
        "For this assignment, we will use [MNIST](https://en.wikipedia.org/wiki/MNIST_database) handwritten digits data set. The dataset consists 10 handwritten digits (0,1,...,9). It is a widely used dataset to demonstrate simple image classification problem.\n",
        "\n",
        "MNIST dataset is publicly available from different sources. We will be using MNIST from Keras package. If you do not have Keras installed, you can find the installation guide [here](https://www.tutorialspoint.com/keras/keras_installation.htm).\n",
        "\n",
        "In short, you need to run ```conda install -c anaconda keras``` or ```pip install keras```\n",
        "\n",
        "The training data consists of 60000 images of size $28 \\times 28$ pixels; the test data consists of 10000 images."
      ]
    },
    {
      "cell_type": "code",
      "execution_count": null,
      "metadata": {
        "colab": {
          "base_uri": "https://localhost:8080/",
          "height": 266
        },
        "id": "Jdo3YbSzAN5D",
        "outputId": "0bcd7635-c9b9-48e1-e625-1c330c27e360"
      },
      "outputs": [
        {
          "output_type": "stream",
          "name": "stdout",
          "text": [
            "Downloading data from https://storage.googleapis.com/tensorflow/tf-keras-datasets/mnist.npz\n",
            "\u001b[1m11490434/11490434\u001b[0m \u001b[32m━━━━━━━━━━━━━━━━━━━━\u001b[0m\u001b[37m\u001b[0m \u001b[1m0s\u001b[0m 0us/step\n",
            "Training data shape: (60000, 28, 28)\n",
            "Test data shape: (10000, 28, 28)\n"
          ]
        },
        {
          "output_type": "display_data",
          "data": {
            "text/plain": [
              "<Figure size 2000x200 with 10 Axes>"
            ],
            "image/png": "[encoded data removed]"
          },
          "metadata": {}
        }
      ],
      "source": [
        "from keras.datasets import mnist\n",
        "(x_train, y_train), (x_test, y_test) = mnist.load_data()\n",
        "\n",
        "print('Training data shape:',x_train.shape)\n",
        "print('Test data shape:',x_test.shape)\n",
        "\n",
        "n_img=10\n",
        "plt.figure(figsize=(n_img*2,2))\n",
        "plt.gray()\n",
        "for i in range(n_img):\n",
        "    plt.subplot(1,n_img,i+1)\n",
        "    plt.imshow(x_train[i])\n",
        "plt.show()"
      ]
    },
    {
      "cell_type": "markdown",
      "metadata": {
        "id": "Uw4N4norAN5D"
      },
      "source": [
        "We will be vectorizing the training and test images. So, the size of each vector will be 784."
      ]
    },
    {
      "cell_type": "code",
      "execution_count": null,
      "metadata": {
        "colab": {
          "base_uri": "https://localhost:8080/"
        },
        "id": "VOIMLKYtAN5E",
        "outputId": "d4e4df73-8fb8-428b-f46e-4f031a01a748"
      },
      "outputs": [
        {
          "output_type": "stream",
          "name": "stdout",
          "text": [
            "Training data shape after reshaping: (60000, 784)\n",
            "Test data shape after reshaping:: (10000, 784)\n",
            "\n",
            "\n",
            "Training label shape:  (60000,)\n",
            "Test label shape:  (10000,)\n"
          ]
        }
      ],
      "source": [
        "x_train=x_train.reshape(x_train.shape[0],-1)\n",
        "x_test=x_test.reshape(x_test.shape[0],-1)\n",
        "\n",
        "print('Training data shape after reshaping:',x_train.shape)\n",
        "print('Test data shape after reshaping::',x_test.shape)\n",
        "print(\"\\n\")\n",
        "print('Training label shape: ', y_train.shape)\n",
        "print('Test label shape: ', y_test.shape)"
      ]
    },
    {
      "cell_type": "markdown",
      "metadata": {
        "id": "iHVQmrbIAN4-"
      },
      "source": [
        "## Question 1: Binary classification using neural network [50 pts]\n",
        "\n",
        "We will start with classification of images for two different digits using a two-layer network with a cross entropy loss.\n",
        "\n",
        "Pick any two digits out of ten for our classification (say 5 and 8), which we will assign label \"0\" or \"1\".\n",
        "\n",
        "Pick same number of images from each class for training and create arrays for input and output (say 1000).\n",
        "\n",
        "```\n",
        "# train_x -- N x 784 array of training input\n",
        "# train_y -- N x 1 array of binary labels\n",
        "```  \n",
        "\n",
        "If you use 1000 images from each class N = 2000. You can increase the number of training samples if you like. It is just a suggestion.\n",
        "\n",
        "\n",
        "We also need to transpose the dimension of the data so that their size becomes $784\\times N$. It will be helpful to feed it to our model based on our notations.\n"
      ]
    },
    {
      "cell_type": "code",
      "execution_count": null,
      "metadata": {
        "id": "fir2-wZWAN5E",
        "outputId": "5d85708e-2fd0-4e5e-c433-6b6833d11828",
        "colab": {
          "base_uri": "https://localhost:8080/"
        }
      },
      "outputs": [
        {
          "output_type": "stream",
          "name": "stdout",
          "text": [
            "Training data shape: (784, 2000)\n",
            "Test data shape: (784, 1866)\n"
          ]
        }
      ],
      "source": [
        "def extract_binary_classification_dataset(x, y, label1, label2, num_samples):\n",
        "    \"\"\"Make a subset dataset from MNIST, containing only 2 classes for binary classification task\n",
        "    Args:\n",
        "        x (numpy.ndarray): data, can be x_train or x_test\n",
        "        y (numpy.ndarray): labels of data, can be y_train or y_test\n",
        "        label1 (int): the first class you pick, e.g. 5\n",
        "        label2 (int): the second class you pick, e.g. 8\n",
        "        num_samples (int): the number of images you select for each class, e.g. 1000\n",
        "    Returns:\n",
        "        x_ (numpy.ndarray): the data for 2 picked classes\n",
        "        y_ (numpy.ndarray): the corresponding labels for 2 picked classes\n",
        "    \"\"\"\n",
        "    # for class 1\n",
        "    x1 = x[y == label1]\n",
        "    x1 = x1[:num_samples]\n",
        "    y1 = np.zeros(len(x1))\n",
        "\n",
        "    # for class 2\n",
        "    x2 = x[y == label2]\n",
        "    x2 = x2[:num_samples]\n",
        "    y2 = np.ones(len(x2))\n",
        "\n",
        "    # combine 2 classes\n",
        "    x_ = np.concatenate((x1,x2),axis=0)\n",
        "    y_ = np.concatenate((y1,y2),axis=0)\n",
        "    return x_, y_\n",
        "\n",
        "\n",
        "# Pick your own digits\n",
        "label1 = 5\n",
        "label2 = 8\n",
        "num_samples = 1000\n",
        "\n",
        "# Train & test data\n",
        "train_x, train_y = extract_binary_classification_dataset(x_train, y_train, label1, label2, num_samples)\n",
        "test_x, test_y = extract_binary_classification_dataset(x_test, y_test, label1, label2, num_samples)\n",
        "\n",
        "# reshape data\n",
        "train_x = train_x.T\n",
        "test_x = test_x.T\n",
        "print(\"Training data shape:\", train_x.shape)\n",
        "print(\"Test data shape:\", test_x.shape)"
      ]
    },
    {
      "cell_type": "markdown",
      "metadata": {
        "id": "HdeO0YieAN5E"
      },
      "source": [
        "### Network Architecture\n",
        "\n",
        "We will be using a two layer neural network in our experiment. The input layer will have 784 nodes, the hidden layer will have 256 nodes and the output layer will have 1 node. Each node will have $\\textit{sigmoid}$ activation function.\n",
        "\n",
        "The equations for feedforward operation will be the following:\n",
        "\n",
        "$$\\mathbf{z}^{(1)}=W^{(1)} \\mathbf{x}+ \\mathbf{b}^{(1)}\\\\\\mathbf{y}^{(1)}=\\varphi(\\mathbf{z}^{(1)})\\\\\\mathbf{z}^{(2)}=W^{(2)}  \\mathbf{y}^{(1)}+ \\mathbf{b}^{(2)} \\\\\\mathbf{y}^{(2)}=\\varphi(\\mathbf{z}^{(2)})$$\n",
        "\n",
        "where $\\mathbf{x}\\in \\mathbb{R}^{784}$ is the input layer, $\\mathbf{y}^{(1)}\\in \\mathbb{R}^{256}$ is the hidden layer, $\\mathbf{y}^{(2)} \\in \\mathbb{R}$ is the output layer, $W^{(1)}\\in \\mathbb{R}^{256\\times 784}$ is the first layer weights, $W^{(2)}\\in \\mathbb{R}^{1\\times 256}$ is the second layer weights, $\\mathbf{b}^{(1)}\\in \\mathbb{R}^{256}$ is the first layer bias, $\\mathbf{b}^{(2)}\\in \\mathbb{R}$ is the second layer bias, $\\varphi(\\cdot)$ is the activation function."
      ]
    },
    {
      "cell_type": "markdown",
      "metadata": {
        "id": "XWw3zn2_AN5F"
      },
      "source": [
        "### Question 1a: Network initialization [5 pts]\n",
        "\n",
        "We initialize the weights for $W^{(1)}$ and $W^{(2)}$ with random values drawn from normal distribution with zero mean and 0.01 standard deviation. We will initialize bias vectors $\\mathbf{b}^{(1)}$ and $\\mathbf{b^{(2)}}$ with zero values.\n",
        "\n",
        "We can fix the seed for random initialization for reproducibility."
      ]
    },
    {
      "cell_type": "code",
      "execution_count": null,
      "metadata": {
        "id": "5k52OUaoAN5F"
      },
      "outputs": [],
      "source": [
        "def TwoLayerNetwork(layer_dims=[784,256,1]):\n",
        "    # Fix the seed\n",
        "    np.random.seed(3)\n",
        "    params = {}\n",
        "\n",
        "    input_layer_dim = layer_dims[0]\n",
        "    hidden_layer_dim = layer_dims[1]\n",
        "    output_layer_dim = layer_dims[2]\n",
        "\n",
        "    params[\"W1\"] = np.random.normal(loc=0.0, scale=0.01, size=(hidden_layer_dim, input_layer_dim))\n",
        "    params[\"b1\"] = np.zeros(shape=(hidden_layer_dim, 1))\n",
        "\n",
        "    params[\"W2\"] = np.random.normal(loc=0.0, scale=0.01, size=(output_layer_dim, hidden_layer_dim))\n",
        "    params[\"b2\"] = np.zeros(shape=(output_layer_dim, 1))\n",
        "\n",
        "    return params"
      ]
    },
    {
      "cell_type": "markdown",
      "metadata": {
        "id": "0xLDm_wkAN5F"
      },
      "source": [
        "### Question 1b: Sigmoid activation function [2 pts]\n",
        "Now we will write the sigmoid activation function as\n",
        "\n",
        "$$ \\varphi(z) = \\frac{1}{1+e^{-z}}$$\n"
      ]
    },
    {
      "cell_type": "code",
      "execution_count": null,
      "metadata": {
        "id": "_CPxvM0UAN5F"
      },
      "outputs": [],
      "source": [
        "def sigmoid(Z):\n",
        "    # Input: Z -- numpy.ndarray\n",
        "    Y = 1 / (1 + np.exp(-Z))\n",
        "\n",
        "    return Y"
      ]
    },
    {
      "cell_type": "markdown",
      "source": [
        "### Question 1c: Derivative of Sigmoid activation function [2 pts]\n",
        "Implement the derivative of the sigmoid activation function.\n",
        "\n",
        "Note that derivative of __sigmoid__ is $\\varphi'(z) = \\varphi(z) (1-\\varphi(z))$.\n",
        "\n"
      ],
      "metadata": {
        "id": "4X6WvTg-3BRE"
      }
    },
    {
      "cell_type": "code",
      "source": [
        "def derivative_sigmoid(Z):\n",
        "    # Input: Z -- numpy.ndarray\n",
        "    grad = sigmoid(Z) * (1 - sigmoid(Z))\n",
        "\n",
        "    return grad"
      ],
      "metadata": {
        "id": "vg_jpJ9728Kh"
      },
      "execution_count": null,
      "outputs": []
    },
    {
      "cell_type": "markdown",
      "metadata": {
        "id": "GGuGMhzeAN5G"
      },
      "source": [
        "### Question 1d: Cross entropy loss function [5 pts]\n",
        "We will minimize the binary cross entropy loss function. You will use the true labels and predicted labels of a batch of N samples.\n",
        "\n",
        "Binary crossentropy loss for $i^{th}$ sample can be written as\n",
        "\n",
        "$$Loss_i = -y_i \\log y^{(2)}_i- (1-y_i) \\log (1-y^{(2)}_i)$$\n",
        "\n",
        "where $y_i$ is the true label. We can find the average loss for a batch of N samples as $Loss=\\frac{1}{N}\\sum_{i=1}^{N} Loss_i$.\n",
        "\n",
        "Note that the gradient of the cross entropy loss w.r.t. the output is\n",
        "\n",
        "$$ \\nabla_{y^{(2)}} Loss_i = -\\frac{y_i}{y_i^{(2)}} + \\frac{1-y_i}{1-y_i^{(2)}} = \\frac{y_i^{(2)}-y_i}{y_i^{(2)}(1-y_i^{(2)})}.$$\n",
        "\n",
        "We can also show that $$\\delta^{(2)} = \\nabla_{\\mathbf{z}^{(2)}} Loss_i  = \\nabla_{y^{(2)}} Loss_i \\odot \\varphi'(\\mathbf{z})= y_i^{(2)}-y_i,$$\n",
        "where $\\odot$ denotes element-wise multiplication of the arrays."
      ]
    },
    {
      "cell_type": "code",
      "execution_count": null,
      "metadata": {
        "id": "l7KkfTXeAN5G"
      },
      "outputs": [],
      "source": [
        "def CrossEntropyLoss(Y_true, Y2):\n",
        "    loss_i = -Y_true * np.log(Y2) - (1 - Y_true) * np.log(1 - Y2)\n",
        "    N = Y_true.shape[1]\n",
        "    loss = np.sum(loss_i) / N\n",
        "\n",
        "    return loss"
      ]
    },
    {
      "cell_type": "markdown",
      "metadata": {
        "id": "EnFFFVP1AN5F"
      },
      "source": [
        "### Question 1e: Forward propagation  [6 pts]\n",
        "Next, we will write the code for the forward pass for two layer network. Each layer consists of an affine function (fully-connected layer) followed by an activation function. You wil also return the intermediate results ($\\mathbf{x}, \\mathbf{z}^{(1)}, \\mathbf{y}^{(1)}, \\mathbf{z}^{(2)}$) in addition to final output ($\\mathbf{y}^{(2)}$). You will need the intermediate outputs for the backpropagation step."
      ]
    },
    {
      "cell_type": "code",
      "execution_count": null,
      "metadata": {
        "id": "oBHoC1_TAN5F"
      },
      "outputs": [],
      "source": [
        "def forward(X, params):\n",
        "    Z1 = (params[\"W1\"] @ X) + params[\"b1\"]\n",
        "    Y1 = sigmoid(Z1)\n",
        "\n",
        "    Z2 = (params[\"W2\"] @ Y1) + params[\"b2\"]\n",
        "    Y2 = sigmoid(Z2)\n",
        "\n",
        "    intermediate = {\n",
        "        \"X\": X,\n",
        "        \"Z1\": Z1,\n",
        "        \"Y1\": Y1,\n",
        "        \"Z2\": Z2\n",
        "    }\n",
        "\n",
        "    return Y2, intermediate"
      ]
    },
    {
      "cell_type": "markdown",
      "metadata": {
        "id": "I4ZM2NLAAN5G"
      },
      "source": [
        "### Question 1f: Back propagation step [10 pts]\n",
        "Now we will implement the backpropagation step for the two layer neural network.\n",
        "\n",
        "You will need the gradient of the Loss w.r.t. $W^{(l)},\\mathbf{b}^{(l)}$ for $l = 1,2$ for all the training samples.  \n",
        "\n",
        "\n",
        "\n",
        "We saw that we can write the gradient of Loss with respect to $W^{(l)}, \\mathbf{b}^{(l)}$ for a single sample as\n",
        "\n",
        "$$\\nabla_{W^{(l)}} Loss_i = \\delta^{(l)} \\mathbf{y}^{(l-1)T},$$  \n",
        "$$\\nabla_{\\mathbf{b}^{(l)}} Loss_i = \\delta^{(l)},$$\n",
        "\n",
        "where\n",
        "$$\\delta^{(l)} = \\nabla_{\\mathbf{z}^{(l)}} Loss_i = \\nabla_{\\mathbf{y}^{(l)}} Loss_i \\odot \\varphi'(\\mathbf{z}^{(l)}).$$\n",
        "\n",
        "\n",
        "For the the last layer, we can compute $\\delta^{(L)}$ by plugging the value of $\\nabla_{\\mathbf{y}^{(L)}} Loss$ as described above.\n",
        "\n",
        "For the intermediate layers $l<L$, we can write\n",
        "$$\\delta^{(l)} = W^{(l+1)T}\\delta^{(l+1)} \\odot \\varphi'(\\mathbf{z}^{(l)}).$$\n",
        "\n",
        "\n",
        "\n",
        "**Once we have the gradients $\\nabla_{W^{(l)}} Loss_i, \\nabla_{\\mathbf{b}^{(l)}} Loss_i$ for all $i$. We can compute their average to compute the gradient of the total loss function $\\frac{1}{N} \\sum_{i=1}^N Loss_i$ as**\n",
        "\n",
        "$$\\nabla_{W^{(l)}} Loss = \\frac{1}{N} \\sum_i \\nabla_{W^{(l)}} Loss_i, $$\n",
        "$$ \\nabla_{\\mathbf{b}^{(l)}} Loss = \\frac{1}{N} \\sum_i  \\nabla_{\\mathbf{b}^{(l)}} Loss_i.$$\n",
        "\n",
        "**Please refer to the slides and lectures for more details.**"
      ]
    },
    {
      "cell_type": "code",
      "execution_count": null,
      "metadata": {
        "id": "ODa4OXAqAN5G"
      },
      "outputs": [],
      "source": [
        "def backward(Y_true, Y2, intermediate, params):\n",
        "\n",
        "    # Inputs:\n",
        "      # Y_true -- 1 x N true labels\n",
        "      # Y2 -- 1 x N output of the last layer\n",
        "      # intermediate -- X, Z1, Y1, Z2\n",
        "      # params -- W1, b1, W2, b2\n",
        "\n",
        "    # Outputs:\n",
        "      # grads -- [grad_W1, grad_b1, grad_W2, grad_b2]\n",
        "    X = intermediate[\"X\"]\n",
        "    Y1 = intermediate[\"Y1\"]\n",
        "    Z1 = intermediate[\"Z1\"]\n",
        "    W2 = params[\"W2\"]\n",
        "    N = X.shape[1]\n",
        "    grads = {}\n",
        "\n",
        "    delta2 = Y2 - Y_true\n",
        "    grads[\"dW2\"] = (1/N) * np.dot(delta2, Y1.T)\n",
        "    grads[\"db2\"] = (1/N) * np.sum(delta2, axis=1, keepdims=True)\n",
        "\n",
        "    delta1 = (W2.T @ delta2) * derivative_sigmoid(Z1)\n",
        "    grads[\"dW1\"] = (1/N) * np.dot(delta1, X.T)\n",
        "    grads[\"db1\"] = (1/N) * np.sum(delta1, axis=1, keepdims=True)\n",
        "\n",
        "    return grads, intermediate"
      ]
    },
    {
      "cell_type": "markdown",
      "metadata": {
        "id": "GlHu8oIaAN5G"
      },
      "source": [
        "### Question 1g: Optimizer [5 pts]\n",
        "We will use a standard gradient descent-based optimizer to minimize the loss function. You have already implemented gradient descent in HW3. You may have to adjust learning rate that provides you best training/validation performance. In this exercise, we are not using validation data; in practice, you should use it to tune your hyperparameters such as learning rate, network architecture etc.\n",
        "\n",
        "You can use same learning rate for all weights in this assignment.\n",
        "\n",
        "You should update $W^1, \\mathbf{b}^1, W^2, \\mathbf{b}^2$ as\n",
        "$$ W^1 \\gets W^1 - \\alpha \\nabla_{W^1} Loss $$\n",
        "$$ \\mathbf{b}^1 \\gets \\mathbf{b}^1 - \\alpha \\nabla_{\\mathbf{b}^1} Loss $$\n",
        "$$ W^2 \\gets W^2 - \\alpha \\nabla_{W^2} Loss $$\n",
        "$$ \\mathbf{b}^2 \\gets \\mathbf{b}^2 - \\alpha \\nabla_{\\mathbf{b}^2} Loss $$\n",
        "$\\alpha$ is the learning rate."
      ]
    },
    {
      "cell_type": "code",
      "execution_count": null,
      "metadata": {
        "id": "noqJ8U_PAN5G"
      },
      "outputs": [],
      "source": [
        "def GD(params, grads, learning_rate):\n",
        "\n",
        "    # updated params = old params - learning rate * gradient of Loss computed at old params\n",
        "    params[\"W1\"] = params[\"W1\"] - (learning_rate * grads[\"dW1\"])\n",
        "    params[\"b1\"] = params[\"b1\"] - (learning_rate * grads[\"db1\"])\n",
        "\n",
        "    params[\"W2\"] = params[\"W2\"] - (learning_rate * grads[\"dW2\"])\n",
        "    params[\"b2\"] = params[\"b2\"] - (learning_rate * grads[\"db2\"])\n",
        "\n",
        "    return params"
      ]
    },
    {
      "cell_type": "markdown",
      "metadata": {
        "id": "adhSifEGAN5G"
      },
      "source": [
        "### Question 1h: Train the Model [5 pts]\n",
        "We will train the model using the functions we wrote above.\n",
        "\n",
        "First, we specify the number of nodes in the layers, number of epochs and learning rate. Then we initialize the network."
      ]
    },
    {
      "cell_type": "code",
      "execution_count": null,
      "metadata": {
        "id": "lKwAatEkAN5H"
      },
      "outputs": [],
      "source": [
        "layer_dims = [train_x.shape[0],256,1]\n",
        "epochs = 400\n",
        "lr = 0.02\n",
        "\n",
        "params = TwoLayerNetwork(layer_dims)"
      ]
    },
    {
      "cell_type": "markdown",
      "metadata": {
        "id": "kdi_L3xYAN5H"
      },
      "source": [
        "Then we train the network for the number of epochs specified above. In every epoch, we will do the following:\n",
        "1. Calculate the forward pass to get estimated labels.\n",
        "2. Use the estimated labels calculate loss. We will be recording loss for every epoch.\n",
        "3. Use backpropagation to calculate gradients.\n",
        "4. Use gradient descent to update the weights and biases.\n",
        "\n",
        "You should store the loss value after every epoch in an array ```loss_history```  and print the loss value after every few epochs (say 20).\n"
      ]
    },
    {
      "cell_type": "code",
      "execution_count": null,
      "metadata": {
        "id": "QtEPxEleAN5H",
        "colab": {
          "base_uri": "https://localhost:8080/"
        },
        "outputId": "c0ea7734-b5c2-4dd6-dec6-c42f8f3dae96"
      },
      "outputs": [
        {
          "output_type": "stream",
          "name": "stdout",
          "text": [
            "Epoch 0: Loss = 0.691340\n",
            "Epoch 25: Loss = 0.303992\n",
            "Epoch 50: Loss = 0.161365\n",
            "Epoch 75: Loss = 0.110807\n",
            "Epoch 100: Loss = 0.085091\n",
            "Epoch 125: Loss = 0.070167\n",
            "Epoch 150: Loss = 0.060375\n",
            "Epoch 175: Loss = 0.053518\n",
            "Epoch 200: Loss = 0.048319\n",
            "Epoch 225: Loss = 0.044090\n",
            "Epoch 250: Loss = 0.040864\n",
            "Epoch 275: Loss = 0.038178\n",
            "Epoch 300: Loss = 0.035816\n",
            "Epoch 325: Loss = 0.033782\n",
            "Epoch 350: Loss = 0.032084\n",
            "Epoch 375: Loss = 0.030608\n"
          ]
        }
      ],
      "source": [
        "params = TwoLayerNetwork(layer_dims)\n",
        "loss_history = []\n",
        "train_y = train_y.reshape(1, -1)\n",
        "\n",
        "for i in range(epochs):\n",
        "  Y2, intermediate = forward(train_x, params)\n",
        "  current_loss = CrossEntropyLoss(train_y, Y2)\n",
        "  loss_history.append(current_loss)\n",
        "\n",
        "  grads, intermediate = backward(train_y, Y2, intermediate, params)\n",
        "  GD(params, grads, lr)\n",
        "\n",
        "  if((i % 25) == 0):\n",
        "    print(f\"Epoch {i}: Loss = {current_loss:.6f}\")\n"
      ]
    },
    {
      "cell_type": "markdown",
      "metadata": {
        "id": "2-7VVZ6iAN5H"
      },
      "source": [
        "Now we will plot the recorded loss values vs epochs. We will observe the training loss decreasing with the epochs."
      ]
    },
    {
      "cell_type": "code",
      "execution_count": null,
      "metadata": {
        "id": "Uu8zTsABAN5H",
        "colab": {
          "base_uri": "https://localhost:8080/",
          "height": 449
        },
        "outputId": "bc15b72c-c417-4834-87b6-d0d84ac0d38d"
      },
      "outputs": [
        {
          "output_type": "display_data",
          "data": {
            "text/plain": [
              "<Figure size 640x480 with 1 Axes>"
            ],
            "image/png": "[encoded data removed]"
          },
          "metadata": {}
        }
      ],
      "source": [
        "plt.figure()\n",
        "plt.plot(loss_history)\n",
        "plt.xlabel(\"Epochs\")\n",
        "plt.ylabel(\"Training Loss\")\n",
        "plt.show()"
      ]
    },
    {
      "cell_type": "markdown",
      "metadata": {
        "id": "8ZlLv1NbAN5H"
      },
      "source": [
        "### Question 1i: Evaluation on test data [5 pts]\n",
        "\n",
        "Now we will be evaluating the accuracy we get from the trained model. We feed training data and test data to the forward model along with the trained parameters.\n",
        "\n",
        "Note that, we need to covert the output probability of the forward pass to binary labels before evaluating accuracy. Since the model provides the posterior probability $p(y = 1 | x)$ in range [0,1]. We can binarize them using 0.5 as a theshold (i.e. if $y_i^{(2)}\\geq 0.5$, $y_i^{(2)} \\gets 1$ otherwise  $y_i^{(2)} \\gets 0$)."
      ]
    },
    {
      "cell_type": "code",
      "execution_count": null,
      "metadata": {
        "id": "HKZ7BSZjAN5I",
        "colab": {
          "base_uri": "https://localhost:8080/"
        },
        "outputId": "1b62ed44-86fd-4fa3-eb9d-b1c4c7978200"
      },
      "outputs": [
        {
          "output_type": "stream",
          "name": "stdout",
          "text": [
            "Training accuracy: 0.9930\n",
            "Test accuracy: 0.9555\n"
          ]
        }
      ],
      "source": [
        "Y2_train, _ = forward(train_x, params)\n",
        "Y_hat_train = (Y2_train >= 0.5).astype(int)\n",
        "train_accuracy = np.mean(Y_hat_train == train_y)\n",
        "print(f\"Training accuracy: {train_accuracy:.4f}\")\n",
        "\n",
        "Y2_test, _ = forward(test_x, params)\n",
        "Y_hat_test = (Y2_test >= 0.5).astype(int)\n",
        "test_accuracy = np.mean(Y_hat_test == test_y)\n",
        "print(f\"Test accuracy: {test_accuracy:.4f}\")"
      ]
    },
    {
      "cell_type": "markdown",
      "metadata": {
        "id": "Ba-laCd-4OkR"
      },
      "source": [
        "### Question 1j: Visualize some of the correct/misclassified images [5 pts]\n",
        "\n",
        "Now we will look at some images from training and test sets that were misclassified.\n",
        "\n",
        "Training set.\n",
        "Pick 5 images from each class that are correcly and incorreclty classified.\n",
        "True/False Positive/Negatives\n",
        "\n",
        "Test set.\n",
        "Pick 5 images from each class that are correcly and incorreclty classified.\n",
        "True/False Positive/Negatives\n"
      ]
    },
    {
      "cell_type": "code",
      "source": [
        "def plot_images(X, indices, title, predicted_label=None, true_label=None):\n",
        "    plt.figure(figsize=(10, 2))\n",
        "    for idx, i in enumerate(indices[:5]):\n",
        "        plt.subplot(1, 5, idx + 1)\n",
        "        img = X[:, i].reshape(28, 28)\n",
        "        plt.imshow(img, cmap='gray')\n",
        "        if predicted_label is not None and true_label is not None:\n",
        "            plt.title(f\"P:{predicted_label[i]} / T:{true_label[i]}\")\n",
        "        plt.axis('off')\n",
        "    plt.suptitle(title)\n",
        "    plt.show()"
      ],
      "metadata": {
        "id": "CzW6ivCdb7OI"
      },
      "execution_count": null,
      "outputs": []
    },
    {
      "cell_type": "code",
      "execution_count": null,
      "metadata": {
        "id": "1O5zZTCn4N18",
        "colab": {
          "base_uri": "https://localhost:8080/",
          "height": 767
        },
        "outputId": "fb10dff7-967b-4e02-b9ed-10d4d1433164"
      },
      "outputs": [
        {
          "output_type": "stream",
          "name": "stdout",
          "text": [
            "Training set examples for true/false positive/negative\n"
          ]
        },
        {
          "output_type": "display_data",
          "data": {
            "text/plain": [
              "<Figure size 1000x200 with 5 Axes>"
            ],
            "image/png": "[encoded data removed]"
          },
          "metadata": {}
        },
        {
          "output_type": "display_data",
          "data": {
            "text/plain": [
              "<Figure size 1000x200 with 5 Axes>"
            ],
            "image/png": "[encoded data removed]"
          },
          "metadata": {}
        },
        {
          "output_type": "display_data",
          "data": {
            "text/plain": [
              "<Figure size 1000x200 with 5 Axes>"
            ],
            "image/png": "[encoded data removed]"
          },
          "metadata": {}
        },
        {
          "output_type": "display_data",
          "data": {
            "text/plain": [
              "<Figure size 1000x200 with 5 Axes>"
            ],
            "image/png": "[encoded data removed]"
          },
          "metadata": {}
        }
      ],
      "source": [
        "# Train set\n",
        "print(\"Training set examples for true/false positive/negative\")\n",
        "Y_hat, caches = forward(train_x, params)\n",
        "\n",
        "train_y_predicted = (Y_hat >= 0.5).astype(int)\n",
        "\n",
        "TP_train = np.where((train_y_predicted == 1) & (train_y == 1))[1]\n",
        "FP_train = np.where((train_y_predicted == 1) & (train_y == 0))[1]\n",
        "TN_train = np.where((train_y_predicted == 0) & (train_y == 0))[1]\n",
        "FN_train = np.where((train_y_predicted == 0) & (train_y == 1))[1]\n",
        "\n",
        "plot_images(train_x, TP_train, \"Training True Positives (TP) — Predicted 8, Actual 8\")\n",
        "plot_images(train_x, FP_train, \"Training False Positives (FP) — Predicted 8, Actual 5\")\n",
        "plot_images(train_x, TN_train, \"Training True Negatives (TN) — Predicted 5, Actual 5\")\n",
        "plot_images(train_x, FN_train, \"Training False Negatives (FN) — Predicted 5, Actual 8\")\n"
      ]
    },
    {
      "cell_type": "code",
      "execution_count": null,
      "metadata": {
        "id": "jym9VlP-_0rd",
        "colab": {
          "base_uri": "https://localhost:8080/",
          "height": 767
        },
        "outputId": "8f12971b-444a-47c0-d67a-6dcd78ae20f6"
      },
      "outputs": [
        {
          "output_type": "stream",
          "name": "stdout",
          "text": [
            "Test set examples for true/false positive/negative\n"
          ]
        },
        {
          "output_type": "display_data",
          "data": {
            "text/plain": [
              "<Figure size 1000x200 with 5 Axes>"
            ],
            "image/png": "[encoded data removed]"
          },
          "metadata": {}
        },
        {
          "output_type": "display_data",
          "data": {
            "text/plain": [
              "<Figure size 1000x200 with 5 Axes>"
            ],
            "image/png": "[encoded data removed]"
          },
          "metadata": {}
        },
        {
          "output_type": "display_data",
          "data": {
            "text/plain": [
              "<Figure size 1000x200 with 5 Axes>"
            ],
            "image/png": "[encoded data removed]"
          },
          "metadata": {}
        },
        {
          "output_type": "display_data",
          "data": {
            "text/plain": [
              "<Figure size 1000x200 with 5 Axes>"
            ],
            "image/png": "[encoded data removed]"
          },
          "metadata": {}
        }
      ],
      "source": [
        "# Test set\n",
        "print(\"Test set examples for true/false positive/negative\")\n",
        "Y_hat, caches = forward(test_x, params)\n",
        "\n",
        "test_y_predicted = (Y_hat >= 0.5).astype(int)\n",
        "\n",
        "TP_test = np.where((test_y_predicted == 1) & (test_y == 1))[1]\n",
        "FP_test = np.where((test_y_predicted == 1) & (test_y == 0))[1]\n",
        "TN_test = np.where((test_y_predicted == 0) & (test_y == 0))[1]\n",
        "FN_test = np.where((test_y_predicted == 0) & (test_y == 1))[1]\n",
        "\n",
        "plot_images(test_x, TP_test, \"Test True Positives (TP) — Predicted 8, Actual 8\")\n",
        "plot_images(test_x, FP_test, \"Test False Positives (FP) — Predicted 8, Actual 5\")\n",
        "plot_images(test_x, TN_test, \"Test True Negatives (TN) — Predicted 5, Actual 5\")\n",
        "plot_images(test_x, FN_test, \"Test False Negatives (FN) — Predicted 5, Actual 8\")\n"
      ]
    },
    {
      "cell_type": "markdown",
      "metadata": {
        "id": "XBEj5ST72SG6"
      },
      "source": [
        "\n",
        "### Note about implementation\n",
        "\n",
        "This is a note on two problems I have seen in the past and how they can be easily fixed.\n",
        "\n",
        "1. Summation along different axes ?\n",
        "\n",
        "2. Summation of gradients over samples ?\n",
        "\n",
        "\n",
        "\n",
        "\n",
        "**1. Summation along different axes**\n",
        "\n",
        "Suppose we want to compute `grad_b1` for which we need to sum (or average) `delta_1` over all the training samples.\n",
        "\n",
        "We can do that as\n",
        "```\n",
        "# suppose delta_1 -- 256 x N array\n",
        "# grad_b1 -- 256 x 1 array\n",
        "\n",
        "grad_b1 = (1/N)*np.sum(delta_1, axis=1, keepdims=True)\n",
        "```\n",
        "\n",
        "The **WRONG** thing to do is\n",
        "```\n",
        "grad_b1 = np.sum(delta_1)\n",
        "# This is WRONG. np.sum() computes sum of the entire array.\n",
        "```\n",
        "\n",
        "\n",
        "---\n",
        "\n",
        "\n",
        "**2. Computing gradient for the entire loss function**\n",
        "\n",
        "(this involves summation of N rank-one matrices in our notation.)\n",
        "\n",
        "\n",
        "\n",
        "\n",
        "Suppose you have computed delta1, delta2 properly\n",
        "\n",
        "\n",
        "\n",
        "\n",
        "Let's assume you computed\n",
        "```\n",
        "# delta2 is a 10 x 10000 array\n",
        "# Y1 is a 256 x 10000 array\n",
        "# N is 10000\n",
        "# grad_W2 should be a 10 x 256 array\n",
        "```\n",
        "\n",
        "\n",
        "\n",
        "We can expand the formula for the gradient of the overall loss.\n",
        "\n",
        "$$\\nabla_{W^{(2)}} Loss = \\frac{1}{N}\\sum_i \\nabla_{W^{(2)}} Loss_i, $$\n",
        "\n",
        "where\n",
        "\n",
        "$$\\nabla_{W^{(2)}} Loss_i = \\delta^{(2)} y^{(1)T}$$ is the gradient of the loss for $i$th training sample, where $\\delta^{(2)}$ is a column of length 10 and $y^{(1)T}$ is a row of length 256, corresponding to $i$th training sample. Matrix product of column and row gives a a rank-1 matrix of size 10 x 256.\n",
        "\n",
        "\n",
        "\n",
        "\n",
        "To compute the gradient of loss over all the training samples, we need to average the rank-1 matrices for all N training samples.\n",
        "\n",
        "\n",
        "We can write the code for that as\n",
        "\n",
        "```\n",
        "# Sum gradient of loss for each sample\n",
        "for i in range(N):\n",
        "\tgrad_W2 += (1/N)*delta2[:,i,None].dot(Y1[:,i,None].T)\n",
        "\n",
        "# OR we can compute grad_W2 without for loop as\n",
        "grad_W2 = 1/N*np.dot(delta2,Y1.T)\n",
        "```\n",
        "\n",
        "To see why this is true, you can convince yourself that matrix product of an `M x N` matrix with an `N x K` matrix can be written as a summation of N `M x K` rank-one matricess.\n",
        "\n",
        "\n",
        "\n",
        "\n",
        "Suppose\n",
        "\n",
        "$A = [\\mathbf{a}_1 ~ \\cdots ~ \\mathbf{a}_N] \\text{ and } B  = \\begin{bmatrix} \\mathbf{b}_1^T \\\\ \\vdots \\\\ \\mathbf{b}_N^T \\end{bmatrix},$\n",
        "\n",
        "where $\\mathbf{a}_i, \\mathbf{b}_i$ are columns of length $M, K$, respectively.\n",
        "\n",
        "\n",
        "\n",
        "We can write $AB$ as\n",
        "\n",
        "\n",
        "\n",
        "\n",
        "$$AB = \\sum_{i = 1}^N \\mathbf{a}_i \\mathbf{b}_i^T.$$\n",
        "\n",
        "\n",
        "---\n",
        "\n"
      ]
    },
    {
      "cell_type": "markdown",
      "metadata": {
        "id": "WecX82dMRrVo"
      },
      "source": [
        "---\n",
        "\n",
        "## <font color='red'> **Submission instructions** </font>\n",
        "1. Follow these steps to download this Colab notebook and convert it to PDF. You can follow similar steps as [here](https://stackoverflow.com/questions/53460051/convert-ipynb-notebook-to-html-in-google-colab) but convert to PDF (not HTML).\n",
        " - Download your notebook as `.ipynb` file. You can do it using only Google Colab. `File` -> `Download` -> `Download .ipynb`.\n",
        " - Reupload it so Colab can see it. Click on the `Files` icon on the far left to expand the side bar. You can directly drag the downloaded `.ipynb` file to the area. Or click `Upload to session storage` icon and then select & upload your `.ipynb` file.\n",
        " - Use the following commands to convert it to PDF.\n",
        " ```\n",
        "!sudo apt-get update\n",
        "!sudo apt-get install texlive-xetex texlive-fonts-recommended texlive-plain-generic pandoc\n",
        "!pip install pypandoc\n",
        "!jupyter nbconvert --log-level CRITICAL --to pdf /path/to/Fall2025_HW4-Two-Layer-Network.ipynb\n",
        "  ```\n",
        " - Your PDF file is ready. Click 3 dots and `Download`.\n",
        "\n",
        "<font color='red'> **Note: Please follow these instructions to generate the PDF. DO NOT use any other method, such as `ctrl+p`.** </font>\n",
        "\n",
        "2. Upload the PDF to Gradescope and **select** the correct pages for each question. Refer to the shared video or contact the TAs if you face any issues. **Important!**\n",
        "\n",
        "\n",
        "3. Upload the `.ipynb` file to Gradescope. Make sure that both the **code** and the **PDF** are uploaded. **Important!**\n",
        "\n",
        "\n",
        "Notice: In case of errors in conversion, please check your LaTeX and debug. In Markdown, when you write in LaTeX math mode, do not leave any leading and trailing whitespaces inside the dollar signs ($). For example, write `(dollarSign)\\mathbf(dollarSign)(dollarSign)` instead of `(dollarSign)(space)\\mathbf{w}(dollarSign)`. Otherwise, nbconvert will throw an error and the generated pdf will be incomplete."
      ]
    },
    {
      "cell_type": "code",
      "execution_count": null,
      "metadata": {
        "id": "ub1l1I4ZRqSS",
        "collapsed": true
      },
      "outputs": [],
      "source": [
        "!sudo apt-get update\n",
        "!sudo apt-get install texlive-xetex texlive-fonts-recommended texlive-plain-generic pandoc\n",
        "!pip install pypandoc"
      ]
    },
    {
      "cell_type": "code",
      "execution_count": null,
      "metadata": {
        "id": "M2XuF-qZ_-fk",
        "colab": {
          "base_uri": "https://localhost:8080/"
        },
        "outputId": "cde69686-7031-491f-9159-9741fc953ef5"
      },
      "outputs": [
        {
          "output_type": "stream",
          "name": "stdout",
          "text": [
            "[NbConvertApp] Converting notebook /content/Fall2025_HW4_Two_Layer_Network.ipynb to pdf\n",
            "[NbConvertApp] Support files will be in Fall2025_HW4_Two_Layer_Network_files/\n",
            "[NbConvertApp] Making directory ./Fall2025_HW4_Two_Layer_Network_files\n",
            "[NbConvertApp] Writing 74555 bytes to notebook.tex\n",
            "[NbConvertApp] Building PDF\n",
            "[NbConvertApp] Running xelatex 3 times: ['xelatex', 'notebook.tex', '-quiet']\n",
            "[NbConvertApp] Running bibtex 1 time: ['bibtex', 'notebook']\n",
            "[NbConvertApp] WARNING | bibtex had problems, most likely because there were no citations\n",
            "[NbConvertApp] PDF successfully created\n",
            "[NbConvertApp] Writing 223547 bytes to /content/Fall2025_HW4_Two_Layer_Network.pdf\n"
          ]
        }
      ],
      "source": [
        "!jupyter nbconvert --log-level INFO --to pdf /content/Fall2025_HW4_Two_Layer_Network.ipynb # make sure the ipynb name is correct"
      ]
    }
  ],
  "metadata": {
    "colab": {
      "provenance": [],
      "include_colab_link": true
    },
    "kernelspec": {
      "display_name": "Python 3 (ipykernel)",
      "language": "python",
      "name": "python3"
    },
    "language_info": {
      "codemirror_mode": {
        "name": "ipython",
        "version": 3
      },
      "file_extension": ".py",
      "mimetype": "text/x-python",
      "name": "python",
      "nbconvert_exporter": "python",
      "pygments_lexer": "ipython3",
      "version": "3.9.13"
    }
  },
  "nbformat": 4,
  "nbformat_minor": 0
}