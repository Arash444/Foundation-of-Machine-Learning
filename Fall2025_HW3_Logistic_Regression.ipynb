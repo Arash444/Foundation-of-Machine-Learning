{
  "nbformat": 4,
  "nbformat_minor": 0,
  "metadata": {
    "colab": {
      "provenance": [],
      "include_colab_link": true
    },
    "kernelspec": {
      "name": "python3",
      "display_name": "Python 3"
    },
    "language_info": {
      "name": "python"
    }
  },
  "cells": [
    {
      "cell_type": "markdown",
      "metadata": {
        "id": "view-in-github",
        "colab_type": "text"
      },
      "source": [
        "<a href=\"https://colab.research.google.com/github/Arash444/Foundation-of-Machine-Learning/blob/main/Fall2025_HW3_Logistic_Regression.ipynb\" target=\"_parent\"><img src=\"https://colab.research.google.com/assets/colab-badge.svg\" alt=\"Open In Colab\"/></a>"
      ]
    },
    {
      "cell_type": "markdown",
      "metadata": {
        "id": "UKc8K9_57UEz"
      },
      "source": [
        "# CS224-EE242a - Fall 2025 - Homework 3\n",
        "\n",
        "# Due: Friday, October 24, 2025 @ 11:59pm\n",
        "\n",
        "### Maximum points: 50 pts\n",
        "\n",
        "\n",
        "## Submit your solution to Gradescope:\n",
        "1. Submit a single PDF to **HW3**\n",
        "2. Submit your jupyter notebook to **HW3-code**\n",
        "\n",
        "**Notice:**\n",
        "In Markdown, when you write in LaTeX math mode, do not leave any leading and trailing whitespaces inside the dollar signs ($). For example, write `(dollarSign)\\mathbf(dollarSign)(dollarSign)` instead of `(dollarSign)(space)\\mathbf{w}(dollarSign)`. Otherwise, nbconvert will throw an error and the generated pdf will be incomplete. [This is a bug of nbconvert.](https://tex.stackexchange.com/questions/367176/jupyter-notebook-latex-conversion-fails-escaped-and-other-symbols)\n",
        "\n",
        "**See the additional submission instructions at the end of this notebook**"
      ]
    },
    {
      "cell_type": "markdown",
      "metadata": {
        "id": "JL5tIX4c9z6s"
      },
      "source": [
        "\n",
        "## <font color='green'> Enter your information below: </font>\n",
        "\n",
        "### <font color='green'> Your Name (submitter): Arash Shahin</font>\n",
        "\n",
        "### <font color='green'> Your student ID (submitter): 862622048</font>\n",
        "    \n",
        "    \n",
        "<b>By submitting this notebook, I assert that the work below is my own work, completed for this course.  Except where explicitly cited, none of the portions of this notebook are duplicated from anyone else's work or my own previous work.</b>\n",
        "\n",
        "\n",
        "## Academic Integrity\n",
        "Each assignment should be done  individually. You may discuss general approaches with other students in the class, and ask questions to the TAs, but  you must only submit work that is yours . If you receive help by any external sources (other than the TA and the instructor), you must properly credit those sources, and if the help is significant, the appropriate grade reduction will be applied. If you fail to do so, the instructor and the TAs are obligated to take the appropriate actions outlined at http://conduct.ucr.edu/policies/academicintegrity.html . Please read carefully the UCR academic integrity policies included in the link.\n"
      ]
    },
    {
      "cell_type": "code",
      "metadata": {
        "id": "fJQhDvSz3BK9"
      },
      "source": [
        "# Standard library imports.\n",
        "import random as rand\n",
        "\n",
        "# Related third party imports.\n",
        "import numpy as np\n",
        "import pandas as pd\n",
        "import matplotlib.pyplot as plt\n",
        "import seaborn as sns\n",
        "from sklearn.model_selection import train_test_split\n",
        "\n",
        "# Local application/library specific imports.\n",
        "# import here if you write .py script"
      ],
      "execution_count": null,
      "outputs": []
    },
    {
      "cell_type": "markdown",
      "metadata": {
        "id": "_7FVGGI_aqre"
      },
      "source": [
        "### Question 1. Logistic regression [50 pts]\n",
        "\n",
        "In this question, we will plot the logistic function and perform logistic regression. We will use the breast cancer data set.  This data set is described here:\n",
        "\n",
        "https://archive.ics.uci.edu/ml/machine-learning-databases/breast-cancer-wisconsin\n",
        "\n",
        "Each sample is a collection of features that were manually recorded by a physician upon inspecting a sample of cells from fine needle aspiration.  The goal is to detect if the cells are benign or malignant.  \n",
        "\n",
        "We could use the `sklearn` built-in `LogisticRegression` class to find the weights for the logistic regression problem.  The `fit` routine in that class has an *optimizer* to select the weights to best match the data.  To understand how that optimizer works, in this problem, we will build a very simple gradient descent optimizer from scratch.  "
      ]
    },
    {
      "cell_type": "markdown",
      "metadata": {
        "id": "EHaz8CZBfUVr"
      },
      "source": [
        "### Loading and visualizing the Breast Cancer Data\n",
        "\n",
        "We load the data from the UCI site and remove the missing values."
      ]
    },
    {
      "cell_type": "code",
      "metadata": {
        "id": "4RdmLqolffmw",
        "colab": {
          "base_uri": "https://localhost:8080/",
          "height": 237
        },
        "outputId": "342d7137-f46b-4e61-b270-ce4b57ff9636"
      },
      "source": [
        "names = ['id','thick','size_unif','shape_unif','marg','cell_size','bare',\n",
        "         'chrom','normal','mit','class']\n",
        "df = pd.read_csv('https://archive.ics.uci.edu/ml/machine-learning-databases/' +\n",
        "                 'breast-cancer-wisconsin/breast-cancer-wisconsin.data',\n",
        "                names=names,na_values='?',header=None)\n",
        "df = df.dropna()\n",
        "df.head(6)"
      ],
      "execution_count": null,
      "outputs": [
        {
          "output_type": "execute_result",
          "data": {
            "text/plain": [
              "        id  thick  size_unif  shape_unif  marg  cell_size  bare  chrom  \\\n",
              "0  1000025      5          1           1     1          2   1.0      3   \n",
              "1  1002945      5          4           4     5          7  10.0      3   \n",
              "2  1015425      3          1           1     1          2   2.0      3   \n",
              "3  1016277      6          8           8     1          3   4.0      3   \n",
              "4  1017023      4          1           1     3          2   1.0      3   \n",
              "5  1017122      8         10          10     8          7  10.0      9   \n",
              "\n",
              "   normal  mit  class  \n",
              "0       1    1      2  \n",
              "1       2    1      2  \n",
              "2       1    1      2  \n",
              "3       7    1      2  \n",
              "4       1    1      2  \n",
              "5       7    1      4  "
            ],
            "text/html": [
              "\n",
              "  <div id=\"df-35515592-a561-4329-9f3a-6cac22e10c3c\" class=\"colab-df-container\">\n",
              "    <div>\n",
              "<style scoped>\n",
              "    .dataframe tbody tr th:only-of-type {\n",
              "        vertical-align: middle;\n",
              "    }\n",
              "\n",
              "    .dataframe tbody tr th {\n",
              "        vertical-align: top;\n",
              "    }\n",
              "\n",
              "    .dataframe thead th {\n",
              "        text-align: right;\n",
              "    }\n",
              "</style>\n",
              "<table border=\"1\" class=\"dataframe\">\n",
              "  <thead>\n",
              "    <tr style=\"text-align: right;\">\n",
              "      <th></th>\n",
              "      <th>id</th>\n",
              "      <th>thick</th>\n",
              "      <th>size_unif</th>\n",
              "      <th>shape_unif</th>\n",
              "      <th>marg</th>\n",
              "      <th>cell_size</th>\n",
              "      <th>bare</th>\n",
              "      <th>chrom</th>\n",
              "      <th>normal</th>\n",
              "      <th>mit</th>\n",
              "      <th>class</th>\n",
              "    </tr>\n",
              "  </thead>\n",
              "  <tbody>\n",
              "    <tr>\n",
              "      <th>0</th>\n",
              "      <td>1000025</td>\n",
              "      <td>5</td>\n",
              "      <td>1</td>\n",
              "      <td>1</td>\n",
              "      <td>1</td>\n",
              "      <td>2</td>\n",
              "      <td>1.0</td>\n",
              "      <td>3</td>\n",
              "      <td>1</td>\n",
              "      <td>1</td>\n",
              "      <td>2</td>\n",
              "    </tr>\n",
              "    <tr>\n",
              "      <th>1</th>\n",
              "      <td>1002945</td>\n",
              "      <td>5</td>\n",
              "      <td>4</td>\n",
              "      <td>4</td>\n",
              "      <td>5</td>\n",
              "      <td>7</td>\n",
              "      <td>10.0</td>\n",
              "      <td>3</td>\n",
              "      <td>2</td>\n",
              "      <td>1</td>\n",
              "      <td>2</td>\n",
              "    </tr>\n",
              "    <tr>\n",
              "      <th>2</th>\n",
              "      <td>1015425</td>\n",
              "      <td>3</td>\n",
              "      <td>1</td>\n",
              "      <td>1</td>\n",
              "      <td>1</td>\n",
              "      <td>2</td>\n",
              "      <td>2.0</td>\n",
              "      <td>3</td>\n",
              "      <td>1</td>\n",
              "      <td>1</td>\n",
              "      <td>2</td>\n",
              "    </tr>\n",
              "    <tr>\n",
              "      <th>3</th>\n",
              "      <td>1016277</td>\n",
              "      <td>6</td>\n",
              "      <td>8</td>\n",
              "      <td>8</td>\n",
              "      <td>1</td>\n",
              "      <td>3</td>\n",
              "      <td>4.0</td>\n",
              "      <td>3</td>\n",
              "      <td>7</td>\n",
              "      <td>1</td>\n",
              "      <td>2</td>\n",
              "    </tr>\n",
              "    <tr>\n",
              "      <th>4</th>\n",
              "      <td>1017023</td>\n",
              "      <td>4</td>\n",
              "      <td>1</td>\n",
              "      <td>1</td>\n",
              "      <td>3</td>\n",
              "      <td>2</td>\n",
              "      <td>1.0</td>\n",
              "      <td>3</td>\n",
              "      <td>1</td>\n",
              "      <td>1</td>\n",
              "      <td>2</td>\n",
              "    </tr>\n",
              "    <tr>\n",
              "      <th>5</th>\n",
              "      <td>1017122</td>\n",
              "      <td>8</td>\n",
              "      <td>10</td>\n",
              "      <td>10</td>\n",
              "      <td>8</td>\n",
              "      <td>7</td>\n",
              "      <td>10.0</td>\n",
              "      <td>9</td>\n",
              "      <td>7</td>\n",
              "      <td>1</td>\n",
              "      <td>4</td>\n",
              "    </tr>\n",
              "  </tbody>\n",
              "</table>\n",
              "</div>\n",
              "    <div class=\"colab-df-buttons\">\n",
              "\n",
              "  <div class=\"colab-df-container\">\n",
              "    <button class=\"colab-df-convert\" onclick=\"convertToInteractive('df-35515592-a561-4329-9f3a-6cac22e10c3c')\"\n",
              "            title=\"Convert this dataframe to an interactive table.\"\n",
              "            style=\"display:none;\">\n",
              "\n",
              "  <svg xmlns=\"http://www.w3.org/2000/svg\" height=\"24px\" viewBox=\"0 -960 960 960\">\n",
              "    <path d=\"M120-120v-720h720v720H120Zm60-500h600v-160H180v160Zm220 220h160v-160H400v160Zm0 220h160v-160H400v160ZM180-400h160v-160H180v160Zm440 0h160v-160H620v160ZM180-180h160v-160H180v160Zm440 0h160v-160H620v160Z\"/>\n",
              "  </svg>\n",
              "    </button>\n",
              "\n",
              "  <style>\n",
              "    .colab-df-container {\n",
              "      display:flex;\n",
              "      gap: 12px;\n",
              "    }\n",
              "\n",
              "    .colab-df-convert {\n",
              "      background-color: #E8F0FE;\n",
              "      border: none;\n",
              "      border-radius: 50%;\n",
              "      cursor: pointer;\n",
              "      display: none;\n",
              "      fill: #1967D2;\n",
              "      height: 32px;\n",
              "      padding: 0 0 0 0;\n",
              "      width: 32px;\n",
              "    }\n",
              "\n",
              "    .colab-df-convert:hover {\n",
              "      background-color: #E2EBFA;\n",
              "      box-shadow: 0px 1px 2px rgba(60, 64, 67, 0.3), 0px 1px 3px 1px rgba(60, 64, 67, 0.15);\n",
              "      fill: #174EA6;\n",
              "    }\n",
              "\n",
              "    .colab-df-buttons div {\n",
              "      margin-bottom: 4px;\n",
              "    }\n",
              "\n",
              "    [theme=dark] .colab-df-convert {\n",
              "      background-color: #3B4455;\n",
              "      fill: #D2E3FC;\n",
              "    }\n",
              "\n",
              "    [theme=dark] .colab-df-convert:hover {\n",
              "      background-color: #434B5C;\n",
              "      box-shadow: 0px 1px 3px 1px rgba(0, 0, 0, 0.15);\n",
              "      filter: drop-shadow(0px 1px 2px rgba(0, 0, 0, 0.3));\n",
              "      fill: #FFFFFF;\n",
              "    }\n",
              "  </style>\n",
              "\n",
              "    <script>\n",
              "      const buttonEl =\n",
              "        document.querySelector('#df-35515592-a561-4329-9f3a-6cac22e10c3c button.colab-df-convert');\n",
              "      buttonEl.style.display =\n",
              "        google.colab.kernel.accessAllowed ? 'block' : 'none';\n",
              "\n",
              "      async function convertToInteractive(key) {\n",
              "        const element = document.querySelector('#df-35515592-a561-4329-9f3a-6cac22e10c3c');\n",
              "        const dataTable =\n",
              "          await google.colab.kernel.invokeFunction('convertToInteractive',\n",
              "                                                    [key], {});\n",
              "        if (!dataTable) return;\n",
              "\n",
              "        const docLinkHtml = 'Like what you see? Visit the ' +\n",
              "          '<a target=\"_blank\" href=https://colab.research.google.com/notebooks/data_table.ipynb>data table notebook</a>'\n",
              "          + ' to learn more about interactive tables.';\n",
              "        element.innerHTML = '';\n",
              "        dataTable['output_type'] = 'display_data';\n",
              "        await google.colab.output.renderOutput(dataTable, element);\n",
              "        const docLink = document.createElement('div');\n",
              "        docLink.innerHTML = docLinkHtml;\n",
              "        element.appendChild(docLink);\n",
              "      }\n",
              "    </script>\n",
              "  </div>\n",
              "\n",
              "\n",
              "    <div id=\"df-10621b94-341a-4733-b3a5-4b41d81be616\">\n",
              "      <button class=\"colab-df-quickchart\" onclick=\"quickchart('df-10621b94-341a-4733-b3a5-4b41d81be616')\"\n",
              "                title=\"Suggest charts\"\n",
              "                style=\"display:none;\">\n",
              "\n",
              "<svg xmlns=\"http://www.w3.org/2000/svg\" height=\"24px\"viewBox=\"0 0 24 24\"\n",
              "     width=\"24px\">\n",
              "    <g>\n",
              "        <path d=\"M19 3H5c-1.1 0-2 .9-2 2v14c0 1.1.9 2 2 2h14c1.1 0 2-.9 2-2V5c0-1.1-.9-2-2-2zM9 17H7v-7h2v7zm4 0h-2V7h2v10zm4 0h-2v-4h2v4z\"/>\n",
              "    </g>\n",
              "</svg>\n",
              "      </button>\n",
              "\n",
              "<style>\n",
              "  .colab-df-quickchart {\n",
              "      --bg-color: #E8F0FE;\n",
              "      --fill-color: #1967D2;\n",
              "      --hover-bg-color: #E2EBFA;\n",
              "      --hover-fill-color: #174EA6;\n",
              "      --disabled-fill-color: #AAA;\n",
              "      --disabled-bg-color: #DDD;\n",
              "  }\n",
              "\n",
              "  [theme=dark] .colab-df-quickchart {\n",
              "      --bg-color: #3B4455;\n",
              "      --fill-color: #D2E3FC;\n",
              "      --hover-bg-color: #434B5C;\n",
              "      --hover-fill-color: #FFFFFF;\n",
              "      --disabled-bg-color: #3B4455;\n",
              "      --disabled-fill-color: #666;\n",
              "  }\n",
              "\n",
              "  .colab-df-quickchart {\n",
              "    background-color: var(--bg-color);\n",
              "    border: none;\n",
              "    border-radius: 50%;\n",
              "    cursor: pointer;\n",
              "    display: none;\n",
              "    fill: var(--fill-color);\n",
              "    height: 32px;\n",
              "    padding: 0;\n",
              "    width: 32px;\n",
              "  }\n",
              "\n",
              "  .colab-df-quickchart:hover {\n",
              "    background-color: var(--hover-bg-color);\n",
              "    box-shadow: 0 1px 2px rgba(60, 64, 67, 0.3), 0 1px 3px 1px rgba(60, 64, 67, 0.15);\n",
              "    fill: var(--button-hover-fill-color);\n",
              "  }\n",
              "\n",
              "  .colab-df-quickchart-complete:disabled,\n",
              "  .colab-df-quickchart-complete:disabled:hover {\n",
              "    background-color: var(--disabled-bg-color);\n",
              "    fill: var(--disabled-fill-color);\n",
              "    box-shadow: none;\n",
              "  }\n",
              "\n",
              "  .colab-df-spinner {\n",
              "    border: 2px solid var(--fill-color);\n",
              "    border-color: transparent;\n",
              "    border-bottom-color: var(--fill-color);\n",
              "    animation:\n",
              "      spin 1s steps(1) infinite;\n",
              "  }\n",
              "\n",
              "  @keyframes spin {\n",
              "    0% {\n",
              "      border-color: transparent;\n",
              "      border-bottom-color: var(--fill-color);\n",
              "      border-left-color: var(--fill-color);\n",
              "    }\n",
              "    20% {\n",
              "      border-color: transparent;\n",
              "      border-left-color: var(--fill-color);\n",
              "      border-top-color: var(--fill-color);\n",
              "    }\n",
              "    30% {\n",
              "      border-color: transparent;\n",
              "      border-left-color: var(--fill-color);\n",
              "      border-top-color: var(--fill-color);\n",
              "      border-right-color: var(--fill-color);\n",
              "    }\n",
              "    40% {\n",
              "      border-color: transparent;\n",
              "      border-right-color: var(--fill-color);\n",
              "      border-top-color: var(--fill-color);\n",
              "    }\n",
              "    60% {\n",
              "      border-color: transparent;\n",
              "      border-right-color: var(--fill-color);\n",
              "    }\n",
              "    80% {\n",
              "      border-color: transparent;\n",
              "      border-right-color: var(--fill-color);\n",
              "      border-bottom-color: var(--fill-color);\n",
              "    }\n",
              "    90% {\n",
              "      border-color: transparent;\n",
              "      border-bottom-color: var(--fill-color);\n",
              "    }\n",
              "  }\n",
              "</style>\n",
              "\n",
              "      <script>\n",
              "        async function quickchart(key) {\n",
              "          const quickchartButtonEl =\n",
              "            document.querySelector('#' + key + ' button');\n",
              "          quickchartButtonEl.disabled = true;  // To prevent multiple clicks.\n",
              "          quickchartButtonEl.classList.add('colab-df-spinner');\n",
              "          try {\n",
              "            const charts = await google.colab.kernel.invokeFunction(\n",
              "                'suggestCharts', [key], {});\n",
              "          } catch (error) {\n",
              "            console.error('Error during call to suggestCharts:', error);\n",
              "          }\n",
              "          quickchartButtonEl.classList.remove('colab-df-spinner');\n",
              "          quickchartButtonEl.classList.add('colab-df-quickchart-complete');\n",
              "        }\n",
              "        (() => {\n",
              "          let quickchartButtonEl =\n",
              "            document.querySelector('#df-10621b94-341a-4733-b3a5-4b41d81be616 button');\n",
              "          quickchartButtonEl.style.display =\n",
              "            google.colab.kernel.accessAllowed ? 'block' : 'none';\n",
              "        })();\n",
              "      </script>\n",
              "    </div>\n",
              "\n",
              "    </div>\n",
              "  </div>\n"
            ],
            "application/vnd.google.colaboratory.intrinsic+json": {
              "type": "dataframe",
              "variable_name": "df",
              "summary": "{\n  \"name\": \"df\",\n  \"rows\": 683,\n  \"fields\": [\n    {\n      \"column\": \"id\",\n      \"properties\": {\n        \"dtype\": \"number\",\n        \"std\": 620644,\n        \"min\": 63375,\n        \"max\": 13454352,\n        \"num_unique_values\": 630,\n        \"samples\": [\n          1287971,\n          385103,\n          636375\n        ],\n        \"semantic_type\": \"\",\n        \"description\": \"\"\n      }\n    },\n    {\n      \"column\": \"thick\",\n      \"properties\": {\n        \"dtype\": \"number\",\n        \"std\": 2,\n        \"min\": 1,\n        \"max\": 10,\n        \"num_unique_values\": 10,\n        \"samples\": [\n          10,\n          3,\n          1\n        ],\n        \"semantic_type\": \"\",\n        \"description\": \"\"\n      }\n    },\n    {\n      \"column\": \"size_unif\",\n      \"properties\": {\n        \"dtype\": \"number\",\n        \"std\": 3,\n        \"min\": 1,\n        \"max\": 10,\n        \"num_unique_values\": 10,\n        \"samples\": [\n          6,\n          4,\n          3\n        ],\n        \"semantic_type\": \"\",\n        \"description\": \"\"\n      }\n    },\n    {\n      \"column\": \"shape_unif\",\n      \"properties\": {\n        \"dtype\": \"number\",\n        \"std\": 2,\n        \"min\": 1,\n        \"max\": 10,\n        \"num_unique_values\": 10,\n        \"samples\": [\n          7,\n          4,\n          3\n        ],\n        \"semantic_type\": \"\",\n        \"description\": \"\"\n      }\n    },\n    {\n      \"column\": \"marg\",\n      \"properties\": {\n        \"dtype\": \"number\",\n        \"std\": 2,\n        \"min\": 1,\n        \"max\": 10,\n        \"num_unique_values\": 10,\n        \"samples\": [\n          9,\n          5,\n          4\n        ],\n        \"semantic_type\": \"\",\n        \"description\": \"\"\n      }\n    },\n    {\n      \"column\": \"cell_size\",\n      \"properties\": {\n        \"dtype\": \"number\",\n        \"std\": 2,\n        \"min\": 1,\n        \"max\": 10,\n        \"num_unique_values\": 10,\n        \"samples\": [\n          10,\n          7,\n          4\n        ],\n        \"semantic_type\": \"\",\n        \"description\": \"\"\n      }\n    },\n    {\n      \"column\": \"bare\",\n      \"properties\": {\n        \"dtype\": \"number\",\n        \"std\": 3.6438571604929035,\n        \"min\": 1.0,\n        \"max\": 10.0,\n        \"num_unique_values\": 10,\n        \"samples\": [\n          8.0,\n          10.0,\n          9.0\n        ],\n        \"semantic_type\": \"\",\n        \"description\": \"\"\n      }\n    },\n    {\n      \"column\": \"chrom\",\n      \"properties\": {\n        \"dtype\": \"number\",\n        \"std\": 2,\n        \"min\": 1,\n        \"max\": 10,\n        \"num_unique_values\": 10,\n        \"samples\": [\n          6,\n          9,\n          5\n        ],\n        \"semantic_type\": \"\",\n        \"description\": \"\"\n      }\n    },\n    {\n      \"column\": \"normal\",\n      \"properties\": {\n        \"dtype\": \"number\",\n        \"std\": 3,\n        \"min\": 1,\n        \"max\": 10,\n        \"num_unique_values\": 10,\n        \"samples\": [\n          9,\n          2,\n          3\n        ],\n        \"semantic_type\": \"\",\n        \"description\": \"\"\n      }\n    },\n    {\n      \"column\": \"mit\",\n      \"properties\": {\n        \"dtype\": \"number\",\n        \"std\": 1,\n        \"min\": 1,\n        \"max\": 10,\n        \"num_unique_values\": 9,\n        \"samples\": [\n          8,\n          5,\n          7\n        ],\n        \"semantic_type\": \"\",\n        \"description\": \"\"\n      }\n    },\n    {\n      \"column\": \"class\",\n      \"properties\": {\n        \"dtype\": \"number\",\n        \"std\": 0,\n        \"min\": 2,\n        \"max\": 4,\n        \"num_unique_values\": 2,\n        \"samples\": [\n          4,\n          2\n        ],\n        \"semantic_type\": \"\",\n        \"description\": \"\"\n      }\n    }\n  ]\n}"
            }
          },
          "metadata": {},
          "execution_count": 54
        }
      ]
    },
    {
      "cell_type": "markdown",
      "metadata": {
        "id": "3EEPMsFmfpqS"
      },
      "source": [
        "After loading the data, we can create a scatter plot of the data labeling the class values with different colors.  We will pick two of the features.  "
      ]
    },
    {
      "cell_type": "code",
      "metadata": {
        "id": "rXSf9mKtfwbF",
        "colab": {
          "base_uri": "https://localhost:8080/",
          "height": 480
        },
        "outputId": "12841c52-c615-49b6-a4a5-b33717cc2525"
      },
      "source": [
        "# Get the response.  Convert to a zero-one indicator\n",
        "yraw = np.array(df['class'])\n",
        "BEN_VAL = 2   # value in the 'class' label for benign samples\n",
        "MAL_VAL = 4   # value in the 'class' label for malignant samples\n",
        "y = (yraw == MAL_VAL).astype(int)\n",
        "Iben = (y==0)\n",
        "Imal = (y==1)\n",
        "\n",
        "# Get two predictors\n",
        "xnames =['size_unif','marg']\n",
        "X = np.array(df[xnames])\n",
        "\n",
        "# Create the scatter plot\n",
        "plt.plot(X[Imal,0],X[Imal,1],'r.')\n",
        "plt.plot(X[Iben,0],X[Iben,1],'g.')\n",
        "plt.xlabel(xnames[0], fontsize=16)\n",
        "plt.ylabel(xnames[1], fontsize=16)\n",
        "plt.ylim(0,14)\n",
        "plt.legend(['malign','benign'],loc='upper right')"
      ],
      "execution_count": null,
      "outputs": [
        {
          "output_type": "execute_result",
          "data": {
            "text/plain": [
              "<matplotlib.legend.Legend at 0x78b4081a6f60>"
            ]
          },
          "metadata": {},
          "execution_count": 55
        },
        {
          "output_type": "display_data",
          "data": {
            "text/plain": [
              "<Figure size 640x480 with 1 Axes>"
            ],
            "image/png": "[encoded data removed]"
          },
          "metadata": {}
        }
      ]
    },
    {
      "cell_type": "markdown",
      "metadata": {
        "id": "UY5fLe90gCnU"
      },
      "source": [
        "The above plot is not informative, since many of the points are on top of one another.  Thus, we cannot see the relative frequency of points.  "
      ]
    },
    {
      "cell_type": "markdown",
      "metadata": {
        "id": "1RaZ9ToBgD6-"
      },
      "source": [
        "### Logistic function\n",
        "\n",
        "We will build a binary classifier using *logistic regression*.  In logistic regression, we do not just output an estimate of the class label.  Instead, we ouput a *probability*, an estimate of how likely the sample is one class or the other.  That is our output is a number from 0 to 1 representing the likelihood:\n",
        "$$\n",
        "    P(y = 1|x)\n",
        "$$\n",
        "which is our estimate of the probability that the sample is one class (in this case, a malignant sample) based on the features in `x`.  This is sometimes called a *soft classifier*.  \n",
        "\n",
        "In logistic regression, we assume that likelihood is of the form\n",
        "$$\n",
        "    P(y=1|x) = \\sigma(z),  \\quad z = w(1)x(1) + \\cdots + w(d)x(d) + b = \\mathbf{w}^T\\mathbf{x}+b,  \n",
        "$$\n",
        "where $w(1),\\ldots,w(d),b$ are the classifier weights and $\\sigma(z)$ is the so-called *logistic* function:\n",
        "$$\n",
        "    \\sigma(z) = \\frac{1}{1+e^{-z}}.\n",
        "$$\n",
        "\n",
        "To understand the logistic function, suppose $x$ is a scalar and samples $y$ are drawn with $P(y=1|x) = f(w x+b)$ for some $w$ and $b$.  We plot these samples for different $w,b$."
      ]
    },
    {
      "cell_type": "code",
      "metadata": {
        "id": "shwwuK9Ogv7D",
        "colab": {
          "base_uri": "https://localhost:8080/",
          "height": 742
        },
        "outputId": "ddb2b971-95ad-45c2-d9de-7eefe3e7d2f9"
      },
      "source": [
        "N = 100\n",
        "xm = 20\n",
        "ws = np.array([0.5,1,2,10])\n",
        "bs = np.array([0, 5, -5])\n",
        "wplot = ws.size\n",
        "bplot = bs.size\n",
        "iplot = 0\n",
        "for b in bs:\n",
        "  for w in ws:\n",
        "    iplot += 1\n",
        "    x  = np.random.uniform(-xm,xm,N)\n",
        "\n",
        "    py = 1/(1+np.exp(-w*x-b))\n",
        "\n",
        "    yp = np.array(np.random.rand(N) < py) # hard label for random points\n",
        "    xp = np.linspace(-xm,xm,100)\n",
        "    pyp = 1/(1+np.exp(-w*xp-b)) # soft label (probability) for the points\n",
        "\n",
        "    plt.subplot(bplot,wplot,iplot)\n",
        "\n",
        "    plt.scatter(x,yp,c=yp,edgecolors='none',marker='+')\n",
        "    plt.plot(xp,pyp,'b-')\n",
        "    plt.axis([-xm,xm,-0.1,1.1])\n",
        "    plt.grid()\n",
        "    if ((iplot%4)!=1):\n",
        "        plt.yticks([])\n",
        "    plt.xticks([-20,-10,0,10,20])\n",
        "    plt.title('w={0:.1f}, b={1:.1f}'.format(w,b))\n",
        "\n",
        "    plt.subplots_adjust(top=1.5, bottom=0.2, hspace=0.5, wspace=0.2)"
      ],
      "execution_count": null,
      "outputs": [
        {
          "output_type": "stream",
          "name": "stderr",
          "text": [
            "/tmp/ipython-input-384680072.py:21: UserWarning: You passed a edgecolor/edgecolors ('none') for an unfilled marker ('+').  Matplotlib is ignoring the edgecolor in favor of the facecolor.  This behavior may change in the future.\n",
            "  plt.scatter(x,yp,c=yp,edgecolors='none',marker='+')\n"
          ]
        },
        {
          "output_type": "display_data",
          "data": {
            "text/plain": [
              "<Figure size 640x480 with 12 Axes>"
            ],
            "image/png": "[encoded data removed]"
          },
          "metadata": {}
        }
      ]
    },
    {
      "cell_type": "markdown",
      "metadata": {
        "id": "kyhRv_1hhOj3"
      },
      "source": [
        "We see that $\\sigma(wx+b)$ represents the probability that $y=1$.  The function $\\sigma(wx) > 0.5$ for $x>0$ meaning the samples are more likely to be $y=1$.  Similarly, for $x<0$, the samples are more likely to be $y=0$.  The scaling $w$ determines how fast that transition is and $b$ influences the transition point.  "
      ]
    },
    {
      "cell_type": "markdown",
      "metadata": {
        "id": "Dr2_5WR2cY9p"
      },
      "source": [
        "### Question 1a: Fitting the Logistic Model on Two Variables using Library Implementation [10 pts]\n",
        "\n",
        "We will fit the logistic model on the two variables `size_unif` and `marg` that we were looking at earlier.\n",
        "\n",
        "Follow the instructions on the cell to complete the code."
      ]
    },
    {
      "cell_type": "code",
      "metadata": {
        "id": "WQPUSMlTcY9q",
        "colab": {
          "base_uri": "https://localhost:8080/"
        },
        "outputId": "5982b8c0-8860-4eda-975b-33aaaf930a97"
      },
      "source": [
        "# Create a list named xnames that contains 2 elements: 'size_unif' and 'marg'\n",
        "xnames = ['size_unif', 'marg']\n",
        "\n",
        "# Take the two columns from the data stored in df variable and convert it to numpy array. Store the result in variable X.\n",
        "X = np.array(df[xnames])\n",
        "ones = np.ones((X.shape[0], 1))\n",
        "X = np.hstack((ones, X))\n",
        "\n",
        "# Print the shape of variable X\n",
        "print(X.shape[0])"
      ],
      "execution_count": null,
      "outputs": [
        {
          "output_type": "stream",
          "name": "stdout",
          "text": [
            "683\n"
          ]
        }
      ]
    },
    {
      "cell_type": "markdown",
      "metadata": {
        "id": "zvgB0iCCcY9q"
      },
      "source": [
        "Next we split the data into training and test"
      ]
    },
    {
      "cell_type": "code",
      "metadata": {
        "id": "2oC7pomCcY9q"
      },
      "source": [
        "# Split into training and test\n",
        "from sklearn.model_selection import train_test_split\n",
        "\n",
        "# Split the data into train and test set using the train_test_split function setting test_size=0.30\n",
        "Xtr, Xts, ytr, yts = train_test_split(X, y, test_size=0.3, random_state=4)"
      ],
      "execution_count": null,
      "outputs": []
    },
    {
      "cell_type": "markdown",
      "metadata": {
        "id": "Qr4ru1WYcY9v"
      },
      "source": [
        "**Logistic regression in scikit-learn**\n",
        "\n",
        "The actual fitting is easy with the `sklearn` package.  The parameter `C`\n",
        "states the level of inverse regularization strength with higher values meaning less regularization. Right now, we will select a high value to minimally regularize the estimate.\n",
        "\n",
        "We can also measure the accuracy on the test data. You should get an accuracy around 90%.\n",
        "\n",
        "Follow the instructions on the cell to complete the code."
      ]
    },
    {
      "cell_type": "code",
      "metadata": {
        "id": "lKGhsUYfzUx3",
        "colab": {
          "base_uri": "https://localhost:8080/"
        },
        "outputId": "f3df6245-5651-40b5-fbc0-9731a2710ed7"
      },
      "source": [
        "from sklearn import datasets, linear_model, preprocessing\n",
        "\n",
        "# Create the Logistic Regression model using the library class linear_model.LogisticRegression setting C to 1e5\n",
        "reg = linear_model.LogisticRegression(C=1e5)\n",
        "\n",
        "# Fit the training data to the model calling the fit() funtion\n",
        "reg.fit(Xtr, ytr)\n",
        "\n",
        "# Print the coefficients and intercept of the decision function learnt. They are stored in coef_ and intercept_ attributes of the model\n",
        "print(reg.coef_)\n",
        "print(reg.intercept_)\n",
        "\n",
        "# Generate the prediction on the test set by calling the predict() function\n",
        "Yhat = reg.predict(Xts)\n",
        "\n",
        "# Calculate the mean accuracy and print it like \"Accuracy on test data = 0.xxxxxx\"\n",
        "acc = reg.score(Xts, yts)\n",
        "print(\"Accuracy on test data = %.6f\" % acc)"
      ],
      "execution_count": null,
      "outputs": [
        {
          "output_type": "stream",
          "name": "stdout",
          "text": [
            "[[-3.12189745  1.717051    0.39065305]]\n",
            "[-3.12190383]\n",
            "Accuracy on test data = 0.936585\n"
          ]
        }
      ]
    },
    {
      "cell_type": "markdown",
      "metadata": {
        "id": "dOhsTYG6zXDk"
      },
      "source": [
        "**Now, we will implement the regression function using gradient descent.**"
      ]
    },
    {
      "cell_type": "markdown",
      "metadata": {
        "id": "KCTbi1wTcbIn"
      },
      "source": [
        "### Question 1b. Gradient descent for logistic regression [20 pts]\n",
        "In the class we saw that the weight vector can be found by minimizing the negative log likelihood over $N$ training samples.  The negative log likelihood is called the *loss* function.  For the logistic regression problem, the loss function simplifies to\n",
        "\n",
        "$$L(\\mathbf{w}) = - \\sum_{i=1}^N y_i \\log \\sigma(\\mathbf{w}^T\\mathbf{x}_i+b) + (1-y_i)\\log [1-\\sigma(\\mathbf{w}^T\\mathbf{x}_i+b)].$$\n",
        "\n",
        "Gradient can be computed as $$\\nabla_\\mathbf{w}L = \\sum_{i=1}^N(\\sigma(\\mathbf{w}^T\\mathbf{x}_i + b)-y_i)\\mathbf{x}_i ,~~~ \\nabla_b L = \\sum_{i=1}^N(\\sigma(\\mathbf{w}^T\\mathbf{x}_i + b)-y_i).$$\n",
        "\n",
        "\n",
        "We can update $\\mathbf{w},b$ at every iteration as  \n",
        "$$ \\mathbf{w} \\gets \\mathbf{w} - \\alpha \\nabla_\\mathbf{w}L, \\\\ b \\gets b - \\alpha \\nabla_b L.$$\n",
        "\n",
        "**Note that we could also append the constant term in $\\mathbf{w}$ and append 1 to every $\\mathbf{x}_i$ accordingly, but we kept them separate in the expressions above.**\n",
        "\n"
      ]
    },
    {
      "cell_type": "markdown",
      "metadata": {
        "id": "QNa10nUiS5ru"
      },
      "source": [
        "**Gradient descent function implementation**\n",
        "\n",
        "We will use this loss function and gradient to implement a gradient descent-based method for logistic regression.\n",
        "\n",
        "Recall that training a logistic function means finding a weight vector `w` for the classification rule:\n",
        "\n",
        "    P(y=1|x,w) = 1/(1+\\exp(-z)), z = w[0]+w[1]*x[1] + ... + w[d]x[d]\n",
        "    \n",
        "The function implemented should follow the following format:\n",
        "```python\n",
        "def logistic_regression_gd(X,y,learning_rate = 0.001,max_iter=1000,tol=pow(10,-5)):\n",
        "```\n",
        "Where `X` is the training data feature(s), `y` is the variable to be predicted, `learning_rate` is the learning rate used ($\\alpha$ in the slides), `max_iter` defines the maximum number of iterations that gradient descent is allowed to run, and `tol` is defining the tolerance for convergence (which we'll discuss next).\n",
        "\n",
        "The return values for the above function should be\n",
        "1. `w` which are the regression parameters,\n",
        "2. `all_cost` which is an array where each position contains the value of the objective function $L(\\mathbf{w})$ for a given iteration,\n",
        "3. `iters` which counts how many iterations did the algorithm need in order to converge to a solution.\n",
        "\n",
        "Gradient descent is an iterative algorithm; it keeps updating the variables until a convergence criterion is met. In our case, our convergence criterion is whichever of the following two criteria happens first:\n",
        "\n",
        "- The maximum number of iterations is met\n",
        "- The relative improvement in the cost is not greater than the tolerance we have specified. For this criterion, you may use the following snippet into your code:\n",
        "```python\n",
        "np.absolute(all_cost[it] - all_cost[it-1])/all_cost[it-1] <= tol\n",
        "```"
      ]
    },
    {
      "cell_type": "code",
      "metadata": {
        "id": "SRDxzsZk8ck_"
      },
      "source": [
        "def sigmoid(z):\n",
        "    return 1 / (1 + np.exp(-z))\n",
        "\n",
        "def compute_cost(X,w,y):\n",
        "    h = sigmoid(X @ w)\n",
        "\n",
        "    term1 = y * np.log(h)\n",
        "    term2 = (1 - y) * np.log(1 - h)\n",
        "    L = -np.sum(term1 + term2)\n",
        "\n",
        "    return L\n",
        "\n",
        "def logistic_regression_gd(X,y,learning_rate = 0.00001,max_iter=1000,tol=pow(10,-5)):\n",
        "    num_features = X.shape[1]\n",
        "    w = np.zeros(num_features)\n",
        "    all_cost = []\n",
        "\n",
        "    for iters in range(max_iter):\n",
        "        h = sigmoid(X @ w)\n",
        "        gradient = X.T @ (h - y)\n",
        "        w = w - (learning_rate * gradient)\n",
        "        current_cost = compute_cost(X, w, y)\n",
        "        all_cost.append(current_cost)\n",
        "        if iters > 0:\n",
        "            relative_improvement = np.absolute(all_cost[iters] - all_cost[iters-1]) / all_cost[iters-1]\n",
        "            if relative_improvement <= tol:\n",
        "                break\n",
        "\n",
        "    return w, all_cost, iters + 1"
      ],
      "execution_count": null,
      "outputs": []
    },
    {
      "cell_type": "markdown",
      "metadata": {
        "id": "08r6_M-98clK"
      },
      "source": [
        "### Question 1c: Convergence plots and test accuracy [10 pts]\n",
        "\n",
        "After implementing gradient descent for logistic regression, we would like to test that indeed our algorithm converges to a solution. In order see this, we are going to look at the value of the objective/loss function $L(\\mathbf{w})$ as a function of the number of iterations, and ideally, what we would like to see is $L(\\mathbf{w})$ drops as we run more iterations, and eventually it stabilizes.\n",
        "\n",
        "The learning rate plays a big role in how fast our algorithm converges: a larger learning rate means that the algorithm is making faster strides to the solution, whereas a smaller learning rate implies slower steps. In this question we are going to test two different values for the learning rate:\n",
        "- 0.001\n",
        "- 0.00001\n",
        "\n",
        "while keeping the default values for the max number of iterations and the tolerance.\n",
        "\n",
        "\n",
        "- **Plot the two convergence plots (cost vs. iterations)**\n",
        "- **Calculate the accuracy of classifier on the test data `Xts`**\n",
        "- **What do you observe?**\n"
      ]
    },
    {
      "cell_type": "markdown",
      "metadata": {
        "id": "2XWJPz_uU1zT"
      },
      "source": [
        "**Calculate accuracy of your classifier on test data**\n",
        "\n",
        "To calculate the accuracy of our classifier on the test data, we can create a predict method.\n",
        "\n",
        "Implement a function `predict(X,w)` that provides you label 1 if $\\mathbf{w}^T\\mathbf{x} + b > 0$ and 0 otherwise.  "
      ]
    },
    {
      "cell_type": "code",
      "metadata": {
        "id": "uFyHcnVFVD4r"
      },
      "source": [
        "def predict(X,w):\n",
        "    z = X @ w\n",
        "    yhat = np.where(z > 0, 1, 0)\n",
        "    return yhat"
      ],
      "execution_count": null,
      "outputs": []
    },
    {
      "cell_type": "code",
      "metadata": {
        "id": "P7KAVMGV8clL",
        "colab": {
          "base_uri": "https://localhost:8080/",
          "height": 1000
        },
        "outputId": "f0a7f187-9def-4197-84a4-af06f546cfba"
      },
      "source": [
        "# test gradient descent with step size 0.001\n",
        "# test gradient descent with step size 0.00001\n",
        "\n",
        "\n",
        "(w, all_cost,iters) = logistic_regression_gd(Xtr,ytr,learning_rate = 0.00001,max_iter = 1000, tol=pow(10,-5))\n",
        "plt.figure()\n",
        "plt.semilogy(all_cost[0:iters])\n",
        "plt.grid(True)\n",
        "plt.title('Convergence: Learning Rate 0.00001')\n",
        "plt.xlabel('Iteration')\n",
        "plt.ylabel('Training loss')\n",
        "\n",
        "yhat = predict(Xts,w)\n",
        "acc = np.mean(yhat == yts)\n",
        "print('Convergence: Learning Rate 0.00001')\n",
        "print(\"Test accuracy = %f\" % acc)\n",
        "\n",
        "(w, all_cost,iters) = logistic_regression_gd(Xtr,ytr,learning_rate = 0.001,max_iter = 1000, tol=pow(10,-5))\n",
        "plt.figure()\n",
        "plt.semilogy(all_cost[0:iters])\n",
        "plt.grid(True)\n",
        "plt.title('Convergence: Learning Rate 0.001')\n",
        "plt.xlabel('Iteration')\n",
        "plt.ylabel('Training loss')\n",
        "\n",
        "yhat = predict(Xts,w)\n",
        "acc = np.mean(yhat == yts)\n",
        "print('Convergence: Learning Rate 0.001')\n",
        "print(\"Test accuracy = %f\" % acc)\n",
        "\n",
        "print(w)\n"
      ],
      "execution_count": null,
      "outputs": [
        {
          "output_type": "stream",
          "name": "stdout",
          "text": [
            "Convergence: Learning Rate 0.00001\n",
            "Test accuracy = 0.917073\n",
            "Convergence: Learning Rate 0.001\n",
            "Test accuracy = 0.936585\n",
            "[-5.95135842  1.63046166  0.37229028]\n"
          ]
        },
        {
          "output_type": "display_data",
          "data": {
            "text/plain": [
              "<Figure size 640x480 with 1 Axes>"
            ],
            "image/png": "[encoded data removed]"
          },
          "metadata": {}
        },
        {
          "output_type": "display_data",
          "data": {
            "text/plain": [
              "<Figure size 640x480 with 1 Axes>"
            ],
            "image/png": "[encoded data removed]"
          },
          "metadata": {}
        }
      ]
    },
    {
      "cell_type": "markdown",
      "metadata": {
        "id": "Zu5HpI_-8clL"
      },
      "source": [
        "<font color=\"green\">Observations: </font>\n",
        "\n",
        "1.   In these two cases, the higher learning rate led to a significantly quicker reduction in training loss. The higher rate run met the convergence criterion and stopped earlier, while the lower rate run failed to meet the criterion and ran for the maximum number of iterations, resulting in a much higher final loss.\n",
        "\n",
        "2. We observe that with each iteration in both graphs, we reduce the training loss from its very high initial start. In early iterations, the reduction of training loss is faster, while near the end the reduction rate slows down.\n",
        "\n",
        "3.   The run with the larger learning rate resulted in a higher accuracy rate because it successfully converged closer to the optimal solution. It led to a 2% higher test accuracy than the run with the slower learning rate, which had not yet converged when we reached the max number of iterations.\n",
        "\n",
        "4. We did not see divergences in either of them, meaning that neither of the learning rates were too large.\n"
      ]
    },
    {
      "cell_type": "markdown",
      "source": [
        "### Question 1d: Print the misclassified data from the test set [10 pts]\n",
        "\n",
        "As the accuracy is less than 100%, some data are misclassified. Print the misclassified data in the following format:\n",
        "\n",
        "`\n",
        "Input data: [a b] Original label: 1 Predicted label: 0\n",
        "`"
      ],
      "metadata": {
        "id": "309Hf_L5u33E"
      }
    },
    {
      "cell_type": "code",
      "source": [
        "misclassified_mask = (Yhat != yts).flatten()\n",
        "\n",
        "misclassified_X = Xts[misclassified_mask, 1:]\n",
        "misclassified_y_original = yts[misclassified_mask]\n",
        "misclassified_y_predicted = Yhat[misclassified_mask]\n",
        "\n",
        "for i in range(len(misclassified_X)):\n",
        "    input_data_str = ' '.join([f\"{x:.2f}\" for x in misclassified_X[i]])\n",
        "\n",
        "    original_label = misclassified_y_original[i]\n",
        "    predicted_label = misclassified_y_predicted[i]\n",
        "\n",
        "    print(f\"Input data: [{input_data_str}] Original label: {original_label} Predicted label: {predicted_label}\")"
      ],
      "metadata": {
        "id": "LkI6W1Biu6nm",
        "colab": {
          "base_uri": "https://localhost:8080/"
        },
        "outputId": "f5ab8cec-2f28-47f3-979b-320425e71298"
      },
      "execution_count": null,
      "outputs": [
        {
          "output_type": "stream",
          "name": "stdout",
          "text": [
            "Input data: [3.00 1.00] Original label: 1 Predicted label: 0\n",
            "Input data: [4.00 3.00] Original label: 0 Predicted label: 1\n",
            "Input data: [9.00 5.00] Original label: 0 Predicted label: 1\n",
            "Input data: [4.00 1.00] Original label: 0 Predicted label: 1\n",
            "Input data: [7.00 1.00] Original label: 0 Predicted label: 1\n",
            "Input data: [3.00 1.00] Original label: 1 Predicted label: 0\n",
            "Input data: [4.00 4.00] Original label: 0 Predicted label: 1\n",
            "Input data: [3.00 1.00] Original label: 1 Predicted label: 0\n",
            "Input data: [8.00 1.00] Original label: 0 Predicted label: 1\n",
            "Input data: [4.00 3.00] Original label: 0 Predicted label: 1\n",
            "Input data: [2.00 1.00] Original label: 1 Predicted label: 0\n",
            "Input data: [3.00 3.00] Original label: 0 Predicted label: 1\n",
            "Input data: [1.00 3.00] Original label: 1 Predicted label: 0\n"
          ]
        }
      ]
    },
    {
      "cell_type": "markdown",
      "source": [
        "- Which class is showing more misclassifications?\n",
        "* <font color=\"green\">**Answer:** </font>\n",
        "\n",
        "Class 0: 8 missclassified as 1\n",
        "\n",
        "Class 1: 5 missclassified as 0\n",
        "\n",
        "So class 0 has been more missclassified\n"
      ],
      "metadata": {
        "id": "zxXa8mw7u_Tn"
      }
    },
    {
      "cell_type": "markdown",
      "source": [
        "---\n",
        "\n",
        "## <font color='red'> **Submission instructions** </font>\n",
        "1. Follow these steps to download this Colab notebook and convert it to PDF. You can follow similar steps as [here](https://stackoverflow.com/questions/53460051/convert-ipynb-notebook-to-html-in-google-colab) but convert to PDF (not HTML).\n",
        " - Download your notebook as `.ipynb` file. You can do it using only Google Colab. `File` -> `Download` -> `Download .ipynb`.\n",
        " - Reupload it so Colab can see it. Click on the `Files` icon on the far left to expand the side bar. You can directly drag the downloaded `.ipynb` file to the area. Or click `Upload to session storage` icon and then select & upload your `.ipynb` file.\n",
        " - Use the following commands to convert it to PDF.\n",
        " ```\n",
        "!sudo apt-get update\n",
        "!sudo apt-get install texlive-xetex texlive-fonts-recommended texlive-plain-generic pandoc\n",
        "!pip install pypandoc\n",
        "!jupyter nbconvert --log-level CRITICAL --to pdf /path/to/Fall2025_HW3-Logistic-Regression.ipynb\n",
        "  ```\n",
        " - Your PDF file is ready. Click 3 dots and `Download`.\n",
        "\n",
        "<font color='red'> **Note: Please follow these instructions to generate the PDF. DO NOT use any other method, such as `ctrl+p`.** </font>\n",
        "\n",
        "2. Upload the PDF to Gradescope and **select** the correct pages for each question. Refer to the shared video or contact the TAs if you face any issues. **Important!**\n",
        "\n",
        "\n",
        "3. Upload the `.ipynb` file to Gradescope. Make sure that both the **code** and the **PDF** are uploaded. **Important!**\n",
        "\n",
        "\n",
        "Notice: In case of errors in conversion, please check your LaTeX and debug. In Markdown, when you write in LaTeX math mode, do not leave any leading and trailing whitespaces inside the dollar signs ($). For example, write `(dollarSign)\\mathbf(dollarSign)(dollarSign)` instead of `(dollarSign)(space)\\mathbf{w}(dollarSign)`. Otherwise, nbconvert will throw an error and the generated pdf will be incomplete."
      ],
      "metadata": {
        "id": "WecX82dMRrVo"
      }
    },
    {
      "cell_type": "code",
      "source": [
        "!sudo apt-get update\n",
        "!sudo apt-get install texlive-xetex texlive-fonts-recommended texlive-plain-generic pandoc\n",
        "!pip install pypandoc"
      ],
      "metadata": {
        "id": "ub1l1I4ZRqSS"
      },
      "execution_count": null,
      "outputs": []
    },
    {
      "cell_type": "code",
      "source": [
        "!jupyter nbconvert --log-level INFO --to pdf /content/Fall2025_HW3_Logistic_Regression.ipynb # make sure the ipynb name is correct"
      ],
      "metadata": {
        "id": "M2XuF-qZ_-fk",
        "colab": {
          "base_uri": "https://localhost:8080/"
        },
        "outputId": "461208b4-c8e1-4da0-d416-411b4a4261a1"
      },
      "execution_count": null,
      "outputs": [
        {
          "output_type": "stream",
          "name": "stdout",
          "text": [
            "[NbConvertApp] Converting notebook /content/Fall2025_HW3_Logistic_Regression.ipynb to pdf\n",
            "[NbConvertApp] Support files will be in Fall2025_HW3_Logistic_Regression_files/\n",
            "[NbConvertApp] Making directory ./Fall2025_HW3_Logistic_Regression_files\n",
            "[NbConvertApp] Writing 63602 bytes to notebook.tex\n",
            "[NbConvertApp] Building PDF\n",
            "[NbConvertApp] Running xelatex 3 times: ['xelatex', 'notebook.tex', '-quiet']\n",
            "[NbConvertApp] Running bibtex 1 time: ['bibtex', 'notebook']\n",
            "[NbConvertApp] WARNING | bibtex had problems, most likely because there were no citations\n",
            "[NbConvertApp] PDF successfully created\n",
            "[NbConvertApp] Writing 206145 bytes to /content/Fall2025_HW3_Logistic_Regression.pdf\n"
          ]
        }
      ]
    }
  ]
}